{
 "cells": [
  {
   "cell_type": "markdown",
   "id": "14bd9d00",
   "metadata": {},
   "source": [
    "# My Jupyter Notebook on IBM Watson Studio"
   ]
  },
  {
   "cell_type": "markdown",
   "id": "5822343d",
   "metadata": {},
   "source": [
    "**Saravanan D <br> Analytics Consultant**"
   ]
  },
  {
   "cell_type": "markdown",
   "id": "62d19ae8",
   "metadata": {},
   "source": [
    "*I am interested in data science because it is useful to make meaningful decisions based on data interpretations*"
   ]
  },
  {
   "cell_type": "markdown",
   "id": "caf65246",
   "metadata": {},
   "source": [
    "### The following code performs addition of two numbers"
   ]
  },
  {
   "cell_type": "code",
   "execution_count": 9,
   "id": "1ce3505f",
   "metadata": {},
   "outputs": [
    {
     "name": "stdout",
     "output_type": "stream",
     "text": [
      "3\n"
     ]
    }
   ],
   "source": [
    "a=1\n",
    "b=2\n",
    "c=a+b\n",
    "print(c)"
   ]
  },
  {
   "cell_type": "markdown",
   "id": "b06d208f",
   "metadata": {},
   "source": [
    "- lion\n",
    "- tiger\n",
    "- cheetah\n",
    "- cat\n",
    "- dog"
   ]
  },
  {
   "cell_type": "code",
   "execution_count": null,
   "id": "6c61e281",
   "metadata": {},
   "outputs": [],
   "source": []
  }
 ],
 "metadata": {
  "kernelspec": {
   "display_name": "Python 3",
   "language": "python",
   "name": "python3"
  },
  "language_info": {
   "codemirror_mode": {
    "name": "ipython",
    "version": 3
   },
   "file_extension": ".py",
   "mimetype": "text/x-python",
   "name": "python",
   "nbconvert_exporter": "python",
   "pygments_lexer": "ipython3",
   "version": "3.8.8"
  }
 },
 "nbformat": 4,
 "nbformat_minor": 5
}
